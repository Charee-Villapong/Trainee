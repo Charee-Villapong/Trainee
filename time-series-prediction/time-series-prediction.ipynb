{
 "cells": [
  {
   "cell_type": "code",
   "execution_count": 1,
   "id": "36d89177",
   "metadata": {},
   "outputs": [],
   "source": [
    "import pandas as pd\n",
    "import numpy as np\n",
    "import matplotlib.pyplot as plt\n",
    "import jpholiday\n",
    "\n",
    "from statsmodels.graphics.tsaplots import plot_acf, plot_pacf\n",
    "from statsmodels.tsa.stattools import acf, pacf\n",
    "#import ydata_profiling\n",
    "import seaborn as sns\n",
    "\n",
    "from sklearn.metrics import mean_absolute_percentage_error\n",
    "from sklearn.model_selection import train_test_split\n",
    "\n",
    "from prophet import Prophet\n",
    "from prophet.diagnostics import cross_validation\n",
    "from prophet.diagnostics import performance_metrics\n",
    "\n",
    "import torch\n",
    "from pytorch_lightning import Trainer\n",
    "from pytorch_forecasting import TimeSeriesDataSet\n",
    "from pytorch_forecasting.models import TemporalFusionTransformer\n",
    "from pytorch_forecasting.data import NaNLabelEncoder\n",
    "from pytorch_forecasting.metrics import QuantileLoss\n",
    "from pytorch_lightning.callbacks import EarlyStopping\n",
    "\n",
    "import warnings\n",
    "warnings.filterwarnings('ignore')"
   ]
  },
  {
   "cell_type": "code",
   "execution_count": 2,
   "id": "b4671e84",
   "metadata": {},
   "outputs": [],
   "source": [
    "df = pd.read_csv(\"stock_price.csv\")"
   ]
  },
  {
   "cell_type": "code",
   "execution_count": 4,
   "id": "b18ec648",
   "metadata": {},
   "outputs": [],
   "source": [
    "def convert_volume_with_apply(volume_str):\n",
    "    \"\"\"\n",
    "    出来高の文字列を数値に変換する関数\n",
    "    \"\"\"\n",
    "    if pd.isna(volume_str):\n",
    "        return np.nan\n",
    "\n",
    "    volume_str = str(volume_str)\n",
    "\n",
    "    # 右端の文字で単位を判定\n",
    "    last_char = volume_str[-1]\n",
    "\n",
    "    if last_char == 'M':  # ミリオン\n",
    "        return float(volume_str[:-1]) * 1_000_000\n",
    "    elif last_char == 'B':  # ビリオン\n",
    "        return float(volume_str[:-1]) * 1_000_000_000\n",
    "    elif last_char == 'K':  # キロ\n",
    "        return float(volume_str[:-1]) * 1_000\n",
    "    else:  # 単位なし\n",
    "        return float(volume_str)"
   ]
  },
  {
   "cell_type": "markdown",
   "id": "6e121d0a",
   "metadata": {},
   "source": [
    "【データ理解　EDA】"
   ]
  },
  {
   "cell_type": "code",
   "execution_count": 4,
   "id": "f6baf0d9",
   "metadata": {},
   "outputs": [
    {
     "data": {
      "text/html": [
       "<div>\n",
       "<style scoped>\n",
       "    .dataframe tbody tr th:only-of-type {\n",
       "        vertical-align: middle;\n",
       "    }\n",
       "\n",
       "    .dataframe tbody tr th {\n",
       "        vertical-align: top;\n",
       "    }\n",
       "\n",
       "    .dataframe thead th {\n",
       "        text-align: right;\n",
       "    }\n",
       "</style>\n",
       "<table border=\"1\" class=\"dataframe\">\n",
       "  <thead>\n",
       "    <tr style=\"text-align: right;\">\n",
       "      <th></th>\n",
       "      <th>終値</th>\n",
       "      <th>始値</th>\n",
       "      <th>高値</th>\n",
       "      <th>安値</th>\n",
       "    </tr>\n",
       "  </thead>\n",
       "  <tbody>\n",
       "    <tr>\n",
       "      <th>count</th>\n",
       "      <td>9202.000000</td>\n",
       "      <td>9202.000000</td>\n",
       "      <td>9202.000000</td>\n",
       "      <td>9202.000000</td>\n",
       "    </tr>\n",
       "    <tr>\n",
       "      <th>mean</th>\n",
       "      <td>92.180961</td>\n",
       "      <td>92.256183</td>\n",
       "      <td>93.176451</td>\n",
       "      <td>91.330146</td>\n",
       "    </tr>\n",
       "    <tr>\n",
       "      <th>std</th>\n",
       "      <td>50.452228</td>\n",
       "      <td>50.598215</td>\n",
       "      <td>51.049837</td>\n",
       "      <td>50.087405</td>\n",
       "    </tr>\n",
       "    <tr>\n",
       "      <th>min</th>\n",
       "      <td>33.000000</td>\n",
       "      <td>33.000000</td>\n",
       "      <td>33.200000</td>\n",
       "      <td>32.200000</td>\n",
       "    </tr>\n",
       "    <tr>\n",
       "      <th>25%</th>\n",
       "      <td>52.000000</td>\n",
       "      <td>52.100000</td>\n",
       "      <td>52.800000</td>\n",
       "      <td>51.500000</td>\n",
       "    </tr>\n",
       "    <tr>\n",
       "      <th>50%</th>\n",
       "      <td>85.100000</td>\n",
       "      <td>85.100000</td>\n",
       "      <td>86.050000</td>\n",
       "      <td>84.200000</td>\n",
       "    </tr>\n",
       "    <tr>\n",
       "      <th>75%</th>\n",
       "      <td>110.800000</td>\n",
       "      <td>110.800000</td>\n",
       "      <td>111.900000</td>\n",
       "      <td>109.275000</td>\n",
       "    </tr>\n",
       "    <tr>\n",
       "      <th>max</th>\n",
       "      <td>305.900000</td>\n",
       "      <td>309.800000</td>\n",
       "      <td>311.800000</td>\n",
       "      <td>303.900000</td>\n",
       "    </tr>\n",
       "  </tbody>\n",
       "</table>\n",
       "</div>"
      ],
      "text/plain": [
       "                終値           始値           高値           安値\n",
       "count  9202.000000  9202.000000  9202.000000  9202.000000\n",
       "mean     92.180961    92.256183    93.176451    91.330146\n",
       "std      50.452228    50.598215    51.049837    50.087405\n",
       "min      33.000000    33.000000    33.200000    32.200000\n",
       "25%      52.000000    52.100000    52.800000    51.500000\n",
       "50%      85.100000    85.100000    86.050000    84.200000\n",
       "75%     110.800000   110.800000   111.900000   109.275000\n",
       "max     305.900000   309.800000   311.800000   303.900000"
      ]
     },
     "execution_count": 4,
     "metadata": {},
     "output_type": "execute_result"
    }
   ],
   "source": [
    "df.describe()"
   ]
  },
  {
   "cell_type": "code",
   "execution_count": 5,
   "id": "788eabab",
   "metadata": {},
   "outputs": [],
   "source": [
    "#### --> EDA用レポート表示\n",
    "#ydata_profiling.ProfileReport(df)"
   ]
  },
  {
   "cell_type": "code",
   "execution_count": 6,
   "id": "94eed53f",
   "metadata": {},
   "outputs": [
    {
     "data": {
      "image/png": "[encoded data removed]",
      "text/plain": [
       "<Figure size 1400x800 with 4 Axes>"
      ]
     },
     "metadata": {},
     "output_type": "display_data"
    }
   ],
   "source": [
    "fig, ax = plt.subplots(2, 2, figsize=(14,8))\n",
    "plot_acf(df[\"終値\"], ax=ax[0, 0], lags=1000)\n",
    "ax[0,0].axhline(y=0.5, color='red', linestyle='--')\n",
    "\n",
    "plot_pacf(df[\"終値\"], ax=ax[0, 1], lags=1000)\n",
    "\n",
    "plot_acf(df[\"終値\"], ax=ax[1, 0], lags=365)\n",
    "ax[1,0].axhline(y=0.5, color='red', linestyle='--')\n",
    "\n",
    "plot_pacf(df[\"終値\"], ax=ax[1, 1], lags=365)\n",
    "plt.show()"
   ]
  },
  {
   "cell_type": "markdown",
   "id": "3b5f0b9f",
   "metadata": {},
   "source": [
    "【前処理と特徴量エンジニアリング】"
   ]
  },
  {
   "cell_type": "code",
   "execution_count": 5,
   "id": "66c6e6ec",
   "metadata": {},
   "outputs": [
    {
     "name": "stdout",
     "output_type": "stream",
     "text": [
      "日付け      datetime64[ns]\n",
      "終値              float64\n",
      "始値              float64\n",
      "高値              float64\n",
      "安値              float64\n",
      "出来高             float64\n",
      "変化率 %           float64\n",
      "dtype: object\n"
     ]
    }
   ],
   "source": [
    "#### --> 出来高列の前処理\n",
    "df[\"出来高\"].str[-1].unique()\n",
    "df['出来高'] = df['出来高'].apply(convert_volume_with_apply)\n",
    "\n",
    "#### --> 変化率列の前処理\n",
    "df[\"変化率 %\"] = df[\"変化率 %\"].str.replace(\"%\", \"\").astype(float) / 100\n",
    "\n",
    "#### --> 日付け列の前処理\n",
    "#日付け列をdatetime型に変換\n",
    "df[\"日付け\"] = pd.to_datetime(df[\"日付け\"])\n",
    "print(df.dtypes)\n",
    "\n",
    "#日付を並び替え\n",
    "df = df.sort_values(\"日付け\", ascending=True).reset_index(drop=True)\n"
   ]
  },
  {
   "cell_type": "code",
   "execution_count": 6,
   "id": "f7c05592",
   "metadata": {},
   "outputs": [
    {
     "name": "stdout",
     "output_type": "stream",
     "text": [
      "\n",
      "欠損の日付count : 4484\n",
      "祝日の日付count : 493\n",
      "単純欠損の日付count : 81\n"
     ]
    }
   ],
   "source": [
    "#### --> 日付け列の内容確認(歯抜け)\n",
    "start_date = df[\"日付け\"].min()\n",
    "end_date = df[\"日付け\"].max()\n",
    "sample_dates = pd.date_range(start=start_date, end=end_date)\n",
    "\n",
    "df_dates_set = set(df[\"日付け\"])\n",
    "\n",
    "# sample_datesにあるが、df_dates_setにはない日付をリスト化\n",
    "missing_dates = [date for date in sample_dates if date not in df_dates_set]\n",
    "\n",
    "# 結果を表示\n",
    "if len(missing_dates) > 0:\n",
    "    print(f\"\\n欠損の日付count : {len(missing_dates)}\")\n",
    "else:\n",
    "    print(\"欠損している日付はありません。\")\n",
    "\n",
    "#\n",
    "df_missing_dates = pd.DataFrame(missing_dates, columns=[\"欠損日\"])\n",
    "df_missing_dates[\"曜日\"] = df_missing_dates[\"欠損日\"].dt.day_name()\n",
    "#土日の行に欠損があるかどうかの確認 \n",
    "df_weekdays = df_missing_dates.loc[(df_missing_dates['曜日'] != 'Saturday') & (df_missing_dates['曜日'] != 'Sunday')]\n",
    "#祝日の行に欠損があるかどうかの確認\n",
    "df_weekdays['祝日'] = df_weekdays['欠損日'].apply(jpholiday.is_holiday)\n",
    "#祝日ではない行に欠損があるかどうかの確認(81件)\n",
    "df_missing = df_weekdays.loc[df_weekdays['祝日'] == False]\n",
    "\n",
    "print(f\"祝日の日付count : {len(df_weekdays)-len(df_missing)}\")\n",
    "print(f\"単純欠損の日付count : {len(df_missing)}\")"
   ]
  },
  {
   "cell_type": "markdown",
   "id": "e5bd8a99",
   "metadata": {},
   "source": [
    "【モデルの実装】　Prophet"
   ]
  },
  {
   "cell_type": "code",
   "execution_count": null,
   "id": "b72a7918",
   "metadata": {},
   "outputs": [
    {
     "name": "stderr",
     "output_type": "stream",
     "text": [
      "00:48:13 - cmdstanpy - INFO - Chain [1] start processing\n",
      "00:49:41 - cmdstanpy - INFO - Chain [1] done processing\n"
     ]
    },
    {
     "name": "stdout",
     "output_type": "stream",
     "text": [
      "MAPE : 6.536 %\n"
     ]
    },
    {
     "data": {
      "image/png": "[encoded data removed]",
      "text/plain": [
       "<Figure size 1000x600 with 1 Axes>"
      ]
     },
     "metadata": {},
     "output_type": "display_data"
    },
    {
     "data": {
      "image/png": "[encoded data removed]",
      "text/plain": [
       "<Figure size 900x900 with 3 Axes>"
      ]
     },
     "metadata": {},
     "output_type": "display_data"
    },
    {
     "data": {
      "application/vnd.jupyter.widget-view+json": {
       "model_id": "7b072d39f7c54a50a3cceacae6e6fcd2",
       "version_major": 2,
       "version_minor": 0
      },
      "text/plain": [
       "  0%|          | 0/8186 [00:00<?, ?it/s]"
      ]
     },
     "metadata": {},
     "output_type": "display_data"
    },
    {
     "name": "stderr",
     "output_type": "stream",
     "text": [
      "00:58:10 - cmdstanpy - INFO - Chain [1] start processing\n",
      "00:58:36 - cmdstanpy - INFO - Chain [1] done processing\n",
      "00:58:37 - cmdstanpy - INFO - Chain [1] start processing\n",
      "00:59:02 - cmdstanpy - INFO - Chain [1] done processing\n",
      "00:59:02 - cmdstanpy - INFO - Chain [1] start processing\n",
      "00:59:26 - cmdstanpy - INFO - Chain [1] done processing\n",
      "00:59:26 - cmdstanpy - INFO - Chain [1] start processing\n",
      "00:59:51 - cmdstanpy - INFO - Chain [1] done processing\n",
      "00:59:52 - cmdstanpy - INFO - Chain [1] start processing\n",
      "01:00:14 - cmdstanpy - INFO - Chain [1] done processing\n",
      "01:00:14 - cmdstanpy - INFO - Chain [1] start processing\n",
      "01:00:46 - cmdstanpy - INFO - Chain [1] done processing\n",
      "01:00:47 - cmdstanpy - INFO - Chain [1] start processing\n",
      "01:01:11 - cmdstanpy - INFO - Chain [1] done processing\n",
      "01:01:12 - cmdstanpy - INFO - Chain [1] start processing\n",
      "01:01:34 - cmdstanpy - INFO - Chain [1] done processing\n",
      "01:01:35 - cmdstanpy - INFO - Chain [1] start processing\n",
      "01:02:03 - cmdstanpy - INFO - Chain [1] done processing\n",
      "01:02:03 - cmdstanpy - INFO - Chain [1] start processing\n",
      "01:02:26 - cmdstanpy - INFO - Chain [1] done processing\n",
      "01:02:27 - cmdstanpy - INFO - Chain [1] start processing\n",
      "01:02:47 - cmdstanpy - INFO - Chain [1] done processing\n",
      "01:02:48 - cmdstanpy - INFO - Chain [1] start processing\n",
      "01:03:18 - cmdstanpy - INFO - Chain [1] done processing\n",
      "01:03:19 - cmdstanpy - INFO - Chain [1] start processing\n",
      "01:03:50 - cmdstanpy - INFO - Chain [1] done processing\n",
      "01:03:51 - cmdstanpy - INFO - Chain [1] start processing\n",
      "01:04:13 - cmdstanpy - INFO - Chain [1] done processing\n",
      "01:04:13 - cmdstanpy - INFO - Chain [1] start processing\n",
      "01:04:43 - cmdstanpy - INFO - Chain [1] done processing\n",
      "01:04:44 - cmdstanpy - INFO - Chain [1] start processing\n",
      "01:05:05 - cmdstanpy - INFO - Chain [1] done processing\n",
      "01:05:06 - cmdstanpy - INFO - Chain [1] start processing\n",
      "01:05:29 - cmdstanpy - INFO - Chain [1] done processing\n",
      "01:05:29 - cmdstanpy - INFO - Chain [1] start processing\n",
      "01:05:49 - cmdstanpy - INFO - Chain [1] done processing\n",
      "01:05:49 - cmdstanpy - INFO - Chain [1] start processing\n",
      "01:06:15 - cmdstanpy - INFO - Chain [1] done processing\n",
      "01:06:16 - cmdstanpy - INFO - Chain [1] start processing\n",
      "01:06:43 - cmdstanpy - INFO - Chain [1] done processing\n",
      "01:06:43 - cmdstanpy - INFO - Chain [1] start processing\n",
      "01:07:08 - cmdstanpy - INFO - Chain [1] done processing\n",
      "01:07:08 - cmdstanpy - INFO - Chain [1] start processing\n",
      "01:07:24 - cmdstanpy - INFO - Chain [1] done processing\n",
      "01:07:24 - cmdstanpy - INFO - Chain [1] start processing\n",
      "01:07:45 - cmdstanpy - INFO - Chain [1] done processing\n",
      "01:07:46 - cmdstanpy - INFO - Chain [1] start processing\n",
      "01:08:08 - cmdstanpy - INFO - Chain [1] done processing\n",
      "01:08:08 - cmdstanpy - INFO - Chain [1] start processing\n",
      "01:08:35 - cmdstanpy - INFO - Chain [1] done processing\n",
      "01:08:36 - cmdstanpy - INFO - Chain [1] start processing\n"
     ]
    }
   ],
   "source": [
    "def Prophet_predictor(df:pd.DataFrame, target:str=\"終値\",sampling_term:int=30, changepoint_prior_scale:float=0.5,seasonality_mode:str='multiplicative'):\n",
    "    \"\"\"\n",
    "    Prophetモデルを使用して時系列データを予測する関数。\n",
    "\n",
    "    Args:\n",
    "        df (DataFrame): 予測に使用するデータフレーム。日付とターゲット変数の列を含む必要があります。\n",
    "        target (str): 予測対象となる列名（例: '株価終値'）。\n",
    "        sampling_term (int): 予測精度を評価するために、テストデータとして使用する期間（例: 30日間）\n",
    "                             のサンプル数を指定します。\n",
    "        changepoint_prior_scale (float, optional): トレンドの変化点の柔軟性を制御するパラメータ。\n",
    "                                                   値が大きいほど、トレンドの急激な変化をより多く許容します。\n",
    "                                                   デフォルトは0.5。\n",
    "        seasonality_mode (str, optional): 季節性のモデル ('additive' または 'multiplicative') を指定します。\n",
    "                                          'multiplicative'は、季節性の変動がトレンドの規模に比例して\n",
    "                                          大きくなるときに適しています。\n",
    "                                          デフォルトは'multiplicative'。\n",
    "    \n",
    "    Returns:\n",
    "        なし（関数内でモデルの学習と予測を実行するため、必要に応じて変更してください）\n",
    "    \"\"\"\n",
    "    _ = df[[\"日付け\",target]]\n",
    "    test_data = _.tail(sampling_term)\n",
    "    train_data = _.rename(columns={\"日付け\": \"ds\", target: \"y\"}).drop(test_data.index)\n",
    "    m = Prophet(changepoint_prior_scale=changepoint_prior_scale,seasonality_mode=seasonality_mode)\n",
    "    m.fit(train_data)\n",
    "    future = test_data[[\"日付け\"]].rename(columns={\"日付け\":\"ds\"})\n",
    "    forecast = m.predict(future)   #予測値の算出\n",
    "    return m, forecast, test_data, train_data\n",
    "    \n",
    "def prophet_mape_evaluator(forecast:pd.DataFrame, test_data:pd.Series):\n",
    "    \"\"\"\n",
    "    Prophetモデルの予測精度を平均絶対パーセント誤差（MAPE）で評価する関数。\n",
    "\n",
    "    Args:\n",
    "        forecast (DataFrame): Prophetモデルの予測結果を含むデータフレーム。\n",
    "        actual_data (pd.Series): 実際の値を含むデータ系列。\n",
    "\n",
    "    Returns:\n",
    "        float: 計算されたMAPEの値（少数表記）。\n",
    "    \"\"\"\n",
    "    y_pred = forecast[\"yhat\"]\n",
    "    y_test = test_data\n",
    "    mape_score = mean_absolute_percentage_error(y_test,y_pred)\n",
    "    print(f\"MAPE : {mape_score *100:.3f} %\")\n",
    "    return mape_score\n",
    "\n",
    "def plot_prophet(m, df:pd.DataFrame, forecast:pd.DataFrame, target:str=\"y\", plotsize=(10,6), sample_start_date:str = '2021-12-01'):\n",
    "    \"\"\"\n",
    "    Prophetの予測結果と実際の値を比較プロットする関数。\n",
    "\n",
    "    Args:\n",
    "        m : Prophetインスタンス\n",
    "        df : training用dataset\n",
    "        forecast (DataFrame): Prophetモデルの予測結果を含むデータフレーム。\n",
    "        target (str, optional): プロット対象となる列名。デフォルトは\"終値\"。\n",
    "        plotsize (tuple, optional): プロットのサイズを(幅, 高さ)で指定。デフォルトは(10, 6)。\n",
    "        sample_start_date (str, optional): 実際の値をプロットする開始日。\n",
    "                                         'YYYY-MM-DD'形式で指定。デフォルトは'2021-12-01'。\n",
    "\n",
    "    Returns:\n",
    "        tuple: プロットのFigureオブジェクトとAxesオブジェクト (fig, ax)。\n",
    "    \"\"\"\n",
    "    # グラフを描画するaxオブジェクトを作成\n",
    "    fig, ax = plt.subplots(figsize=plotsize)\n",
    "    # 1. 予測値をプロット（yhatと信頼区間）\n",
    "    ax.plot(forecast['ds'], forecast['yhat'], color='blue', label='Forecast')\n",
    "    ax.fill_between(forecast['ds'], forecast['yhat_lower'], forecast['yhat_upper'], color='blue', alpha=0.2, label='Confidence Interval')\n",
    "    actual_data = df.loc[df['ds'] >= sample_start_date]\n",
    "    ax.plot(actual_data['ds'], actual_data[target], 'k.', label='Actual')\n",
    "    ax.set_title('Prophet Forecast with Actual Values')\n",
    "    ax.set_xlabel('Date')\n",
    "    ax.set_ylabel('Value')\n",
    "    ax.legend(loc='lower right')\n",
    "    ax.set_ylim(0, None)\n",
    "    plt.show()\n",
    "    fig2 = m.plot_components(forecast)\n",
    "    plt.show(fig2) \n",
    "    return fig, ax\n",
    "\n",
    "def prophet_cv(total_rows:int = 9220, initial_days:int = 1460, period:int = 180, horizon:int = 30):\n",
    "    \"\"\"\n",
    "    Prophetモデルに対してウォークフォワード交差検証（Cross Validation）を実行し、\n",
    "    MAPEなどの評価指標を算出する関数。\n",
    "\n",
    "    Args:\n",
    "        total_rows (int): データ全体の行数（任意。内部では未使用だが、参照用に置いてある）\n",
    "        initial_days (int): 学習に使用する初期データの期間（日数）。\n",
    "                            例: 1460 → 最初の約4年分を学習に使う。\n",
    "        period (int): 検証のステップ幅（日数）。この間隔で学習終了点をずらしながらCVを行う。\n",
    "                      例: 180 → 半年ごとに予測を検証。\n",
    "        horizon (int): 予測の先の期間（日数）。\n",
    "                       例: 30 → 各検証で30日先まで予測して評価。\n",
    "\n",
    "    Returns:\n",
    "        DataFrame: cross_validation の結果から算出された performance_metrics（MAPE, RMSEなど）。\n",
    "    \"\"\"\n",
    "    df_cv = cross_validation(m, initial=f'{initial_days} days', period=period, horizon=horizon)\n",
    "    df_p = performance_metrics(df_cv, metrics=['mape'])     # ホライズンごとのMAPE, RMSEなどを計算\n",
    "    print(df_p) # 結果の出力\n",
    "    return df_p\n",
    "\n",
    "def main():\n",
    "    # === データ準備 ===\n",
    "    rows = len(df)\n",
    "    m, forecast, test_data, train_data = Prophet_predictor(df)　# 予測値の算出\n",
    "    score = prophet_mape_evaluator(forecast, test_data[\"終値\"]) #　評価\n",
    "    plot_prophet(m, df.rename(columns={\"日付け\": \"ds\", target: \"y\"}), forecast, plot_size=(6,4))　# 結果の可視化\n",
    "    prophet_cv(m, total_rows=rows)　# 汎化性能の検証\n",
    "\n",
    "#メイン関数の実行\n",
    "if __name__ == \"__main__\":\n",
    "    main()\n"
   ]
  },
  {
   "cell_type": "markdown",
   "id": "0e00d0cc",
   "metadata": {},
   "source": [
    "【モデルの実装】　TFT (Temporal Fusion Transformer)"
   ]
  },
  {
   "cell_type": "code",
   "execution_count": 8,
   "id": "382a4344",
   "metadata": {},
   "outputs": [
    {
     "name": "stdout",
     "output_type": "stream",
     "text": [
      "cpu\n"
     ]
    },
    {
     "name": "stderr",
     "output_type": "stream",
     "text": [
      "GPU available: False, used: False\n",
      "TPU available: False, using: 0 TPU cores\n",
      "IPU available: False, using: 0 IPUs\n",
      "HPU available: False, using: 0 HPUs\n",
      "\n",
      "   | Name                               | Type                            | Params\n",
      "----------------------------------------------------------------------------------------\n",
      "0  | loss                               | QuantileLoss                    | 0     \n",
      "1  | logging_metrics                    | ModuleList                      | 0     \n",
      "2  | input_embeddings                   | MultiEmbedding                  | 0     \n",
      "3  | prescalers                         | ModuleDict                      | 32    \n",
      "4  | static_variable_selection          | VariableSelectionNetwork        | 0     \n",
      "5  | encoder_variable_selection         | VariableSelectionNetwork        | 1.9 K \n",
      "6  | decoder_variable_selection         | VariableSelectionNetwork        | 1.9 K \n",
      "7  | static_context_variable_selection  | GatedResidualNetwork            | 4.3 K \n",
      "8  | static_context_initial_hidden_lstm | GatedResidualNetwork            | 4.3 K \n",
      "9  | static_context_initial_cell_lstm   | GatedResidualNetwork            | 4.3 K \n",
      "10 | static_context_enrichment          | GatedResidualNetwork            | 4.3 K \n",
      "11 | lstm_encoder                       | LSTM                            | 8.4 K \n",
      "12 | lstm_decoder                       | LSTM                            | 8.4 K \n",
      "13 | post_lstm_gate_encoder             | GatedLinearUnit                 | 2.1 K \n",
      "14 | post_lstm_add_norm_encoder         | AddNorm                         | 64    \n",
      "15 | static_enrichment                  | GatedResidualNetwork            | 5.3 K \n",
      "16 | multihead_attn                     | InterpretableMultiHeadAttention | 2.6 K \n",
      "17 | post_attn_gate_norm                | GateAddNorm                     | 2.2 K \n",
      "18 | pos_wise_ff                        | GatedResidualNetwork            | 4.3 K \n",
      "19 | pre_output_gate_norm               | GateAddNorm                     | 2.2 K \n",
      "20 | output_layer                       | Linear                          | 231   \n",
      "----------------------------------------------------------------------------------------\n",
      "56.8 K    Trainable params\n",
      "0         Non-trainable params\n",
      "56.8 K    Total params\n",
      "0.227     Total estimated model params size (MB)\n"
     ]
    },
    {
     "data": {
      "application/vnd.jupyter.widget-view+json": {
       "model_id": "1ca9b06ff07441ffbc99298e7efebbdb",
       "version_major": 2,
       "version_minor": 0
      },
      "text/plain": [
       "Sanity Checking: 0it [00:00, ?it/s]"
      ]
     },
     "metadata": {},
     "output_type": "display_data"
    },
    {
     "data": {
      "application/vnd.jupyter.widget-view+json": {
       "model_id": "76429dba792f49d88359fb6c7dc6713d",
       "version_major": 2,
       "version_minor": 0
      },
      "text/plain": [
       "Training: 0it [00:00, ?it/s]"
      ]
     },
     "metadata": {},
     "output_type": "display_data"
    },
    {
     "data": {
      "application/vnd.jupyter.widget-view+json": {
       "model_id": "06d47d2f55f5463da897b7c4e8f50e85",
       "version_major": 2,
       "version_minor": 0
      },
      "text/plain": [
       "Validation: 0it [00:00, ?it/s]"
      ]
     },
     "metadata": {},
     "output_type": "display_data"
    },
    {
     "data": {
      "application/vnd.jupyter.widget-view+json": {
       "model_id": "d6306fe229064212b8edc785befec927",
       "version_major": 2,
       "version_minor": 0
      },
      "text/plain": [
       "Validation: 0it [00:00, ?it/s]"
      ]
     },
     "metadata": {},
     "output_type": "display_data"
    },
    {
     "data": {
      "application/vnd.jupyter.widget-view+json": {
       "model_id": "20f35f0e16094d88afeb7a1800c4fb3f",
       "version_major": 2,
       "version_minor": 0
      },
      "text/plain": [
       "Validation: 0it [00:00, ?it/s]"
      ]
     },
     "metadata": {},
     "output_type": "display_data"
    },
    {
     "data": {
      "application/vnd.jupyter.widget-view+json": {
       "model_id": "a35e20d5a15841f6bfee14440d6b474c",
       "version_major": 2,
       "version_minor": 0
      },
      "text/plain": [
       "Validation: 0it [00:00, ?it/s]"
      ]
     },
     "metadata": {},
     "output_type": "display_data"
    },
    {
     "data": {
      "application/vnd.jupyter.widget-view+json": {
       "model_id": "7459dcc7c156469c89a56d915eb37e3d",
       "version_major": 2,
       "version_minor": 0
      },
      "text/plain": [
       "Validation: 0it [00:00, ?it/s]"
      ]
     },
     "metadata": {},
     "output_type": "display_data"
    },
    {
     "data": {
      "application/vnd.jupyter.widget-view+json": {
       "model_id": "e8b56ac4068544e1b592c143f9902acf",
       "version_major": 2,
       "version_minor": 0
      },
      "text/plain": [
       "Validation: 0it [00:00, ?it/s]"
      ]
     },
     "metadata": {},
     "output_type": "display_data"
    },
    {
     "data": {
      "application/vnd.jupyter.widget-view+json": {
       "model_id": "73ff82aa84d647c88b32e97322744da1",
       "version_major": 2,
       "version_minor": 0
      },
      "text/plain": [
       "Validation: 0it [00:00, ?it/s]"
      ]
     },
     "metadata": {},
     "output_type": "display_data"
    },
    {
     "data": {
      "application/vnd.jupyter.widget-view+json": {
       "model_id": "db7d9ec21d19403aa8983ea24d7a1313",
       "version_major": 2,
       "version_minor": 0
      },
      "text/plain": [
       "Validation: 0it [00:00, ?it/s]"
      ]
     },
     "metadata": {},
     "output_type": "display_data"
    },
    {
     "data": {
      "application/vnd.jupyter.widget-view+json": {
       "model_id": "9a9e99e04c114ff09df4a54c6c9fb2e9",
       "version_major": 2,
       "version_minor": 0
      },
      "text/plain": [
       "Validation: 0it [00:00, ?it/s]"
      ]
     },
     "metadata": {},
     "output_type": "display_data"
    },
    {
     "data": {
      "application/vnd.jupyter.widget-view+json": {
       "model_id": "b3daf72d93734c95a57d123bd3d15d19",
       "version_major": 2,
       "version_minor": 0
      },
      "text/plain": [
       "Validation: 0it [00:00, ?it/s]"
      ]
     },
     "metadata": {},
     "output_type": "display_data"
    },
    {
     "data": {
      "application/vnd.jupyter.widget-view+json": {
       "model_id": "91e6a866f85e440bb1939642df5d0c9a",
       "version_major": 2,
       "version_minor": 0
      },
      "text/plain": [
       "Validation: 0it [00:00, ?it/s]"
      ]
     },
     "metadata": {},
     "output_type": "display_data"
    },
    {
     "data": {
      "application/vnd.jupyter.widget-view+json": {
       "model_id": "8b3db236d9ce4d2189eb64db1b1c9d54",
       "version_major": 2,
       "version_minor": 0
      },
      "text/plain": [
       "Validation: 0it [00:00, ?it/s]"
      ]
     },
     "metadata": {},
     "output_type": "display_data"
    },
    {
     "data": {
      "application/vnd.jupyter.widget-view+json": {
       "model_id": "5eaef2a85d964300b845bc551f0c65c6",
       "version_major": 2,
       "version_minor": 0
      },
      "text/plain": [
       "Validation: 0it [00:00, ?it/s]"
      ]
     },
     "metadata": {},
     "output_type": "display_data"
    },
    {
     "data": {
      "application/vnd.jupyter.widget-view+json": {
       "model_id": "eaf024587b914524a8d6494d8d742636",
       "version_major": 2,
       "version_minor": 0
      },
      "text/plain": [
       "Validation: 0it [00:00, ?it/s]"
      ]
     },
     "metadata": {},
     "output_type": "display_data"
    },
    {
     "data": {
      "application/vnd.jupyter.widget-view+json": {
       "model_id": "9d78becad06f4701920f33d607dea460",
       "version_major": 2,
       "version_minor": 0
      },
      "text/plain": [
       "Validation: 0it [00:00, ?it/s]"
      ]
     },
     "metadata": {},
     "output_type": "display_data"
    },
    {
     "data": {
      "application/vnd.jupyter.widget-view+json": {
       "model_id": "1dce3efa1f01405e80af3cf8e923caeb",
       "version_major": 2,
       "version_minor": 0
      },
      "text/plain": [
       "Validation: 0it [00:00, ?it/s]"
      ]
     },
     "metadata": {},
     "output_type": "display_data"
    },
    {
     "data": {
      "application/vnd.jupyter.widget-view+json": {
       "model_id": "bf814d85e7ed43cb9fdf39547d2dd5c2",
       "version_major": 2,
       "version_minor": 0
      },
      "text/plain": [
       "Validation: 0it [00:00, ?it/s]"
      ]
     },
     "metadata": {},
     "output_type": "display_data"
    },
    {
     "data": {
      "application/vnd.jupyter.widget-view+json": {
       "model_id": "77e59bc145fa46b9996e2c9ba45fd2cf",
       "version_major": 2,
       "version_minor": 0
      },
      "text/plain": [
       "Validation: 0it [00:00, ?it/s]"
      ]
     },
     "metadata": {},
     "output_type": "display_data"
    },
    {
     "data": {
      "application/vnd.jupyter.widget-view+json": {
       "model_id": "020c2eb3156c418b81d6a62e1e19f5d3",
       "version_major": 2,
       "version_minor": 0
      },
      "text/plain": [
       "Validation: 0it [00:00, ?it/s]"
      ]
     },
     "metadata": {},
     "output_type": "display_data"
    },
    {
     "data": {
      "application/vnd.jupyter.widget-view+json": {
       "model_id": "960e8175f2ed48539c2882a012f4f8b4",
       "version_major": 2,
       "version_minor": 0
      },
      "text/plain": [
       "Validation: 0it [00:00, ?it/s]"
      ]
     },
     "metadata": {},
     "output_type": "display_data"
    },
    {
     "data": {
      "application/vnd.jupyter.widget-view+json": {
       "model_id": "54163f2d63064e2d8635f65e596239a7",
       "version_major": 2,
       "version_minor": 0
      },
      "text/plain": [
       "Validation: 0it [00:00, ?it/s]"
      ]
     },
     "metadata": {},
     "output_type": "display_data"
    },
    {
     "data": {
      "application/vnd.jupyter.widget-view+json": {
       "model_id": "1ce77fe4dac54c3783c014ac56c0dc9b",
       "version_major": 2,
       "version_minor": 0
      },
      "text/plain": [
       "Validation: 0it [00:00, ?it/s]"
      ]
     },
     "metadata": {},
     "output_type": "display_data"
    },
    {
     "data": {
      "application/vnd.jupyter.widget-view+json": {
       "model_id": "f59f456531d14a579314415ff8be001d",
       "version_major": 2,
       "version_minor": 0
      },
      "text/plain": [
       "Validation: 0it [00:00, ?it/s]"
      ]
     },
     "metadata": {},
     "output_type": "display_data"
    },
    {
     "data": {
      "application/vnd.jupyter.widget-view+json": {
       "model_id": "c88a02bc46c346cca733ba8999563f28",
       "version_major": 2,
       "version_minor": 0
      },
      "text/plain": [
       "Validation: 0it [00:00, ?it/s]"
      ]
     },
     "metadata": {},
     "output_type": "display_data"
    },
    {
     "data": {
      "application/vnd.jupyter.widget-view+json": {
       "model_id": "45659856d1774edd9f5d263399118fa9",
       "version_major": 2,
       "version_minor": 0
      },
      "text/plain": [
       "Validation: 0it [00:00, ?it/s]"
      ]
     },
     "metadata": {},
     "output_type": "display_data"
    },
    {
     "data": {
      "application/vnd.jupyter.widget-view+json": {
       "model_id": "d681cc16bbbd49f1adadcafc72095fe1",
       "version_major": 2,
       "version_minor": 0
      },
      "text/plain": [
       "Validation: 0it [00:00, ?it/s]"
      ]
     },
     "metadata": {},
     "output_type": "display_data"
    },
    {
     "data": {
      "application/vnd.jupyter.widget-view+json": {
       "model_id": "382ff46af60942aa87a87c022d8721e1",
       "version_major": 2,
       "version_minor": 0
      },
      "text/plain": [
       "Validation: 0it [00:00, ?it/s]"
      ]
     },
     "metadata": {},
     "output_type": "display_data"
    },
    {
     "data": {
      "application/vnd.jupyter.widget-view+json": {
       "model_id": "b46723d2f0464b21986e2be131532b91",
       "version_major": 2,
       "version_minor": 0
      },
      "text/plain": [
       "Validation: 0it [00:00, ?it/s]"
      ]
     },
     "metadata": {},
     "output_type": "display_data"
    },
    {
     "data": {
      "application/vnd.jupyter.widget-view+json": {
       "model_id": "9704fafb0684474280eb18d28f0bd292",
       "version_major": 2,
       "version_minor": 0
      },
      "text/plain": [
       "Validation: 0it [00:00, ?it/s]"
      ]
     },
     "metadata": {},
     "output_type": "display_data"
    },
    {
     "data": {
      "application/vnd.jupyter.widget-view+json": {
       "model_id": "e9e2003ac2e1429aaf56689b4d58e1b2",
       "version_major": 2,
       "version_minor": 0
      },
      "text/plain": [
       "Validation: 0it [00:00, ?it/s]"
      ]
     },
     "metadata": {},
     "output_type": "display_data"
    },
    {
     "data": {
      "application/vnd.jupyter.widget-view+json": {
       "model_id": "0dc09302b71c48ee8210ffba0a165945",
       "version_major": 2,
       "version_minor": 0
      },
      "text/plain": [
       "Validation: 0it [00:00, ?it/s]"
      ]
     },
     "metadata": {},
     "output_type": "display_data"
    },
    {
     "data": {
      "application/vnd.jupyter.widget-view+json": {
       "model_id": "bcee7d53c33d407fb74f11d3a8cbe640",
       "version_major": 2,
       "version_minor": 0
      },
      "text/plain": [
       "Validation: 0it [00:00, ?it/s]"
      ]
     },
     "metadata": {},
     "output_type": "display_data"
    },
    {
     "data": {
      "application/vnd.jupyter.widget-view+json": {
       "model_id": "4f54fbd99db548a389ccf2f634c75a3c",
       "version_major": 2,
       "version_minor": 0
      },
      "text/plain": [
       "Validation: 0it [00:00, ?it/s]"
      ]
     },
     "metadata": {},
     "output_type": "display_data"
    },
    {
     "data": {
      "application/vnd.jupyter.widget-view+json": {
       "model_id": "eb049417ac264d668ec2d8ecb2dd8569",
       "version_major": 2,
       "version_minor": 0
      },
      "text/plain": [
       "Validation: 0it [00:00, ?it/s]"
      ]
     },
     "metadata": {},
     "output_type": "display_data"
    },
    {
     "data": {
      "application/vnd.jupyter.widget-view+json": {
       "model_id": "732971e220d04b8e94f02c83f9a02eda",
       "version_major": 2,
       "version_minor": 0
      },
      "text/plain": [
       "Validation: 0it [00:00, ?it/s]"
      ]
     },
     "metadata": {},
     "output_type": "display_data"
    },
    {
     "data": {
      "application/vnd.jupyter.widget-view+json": {
       "model_id": "c1cc063367f34bc9bdba2b99c30d9496",
       "version_major": 2,
       "version_minor": 0
      },
      "text/plain": [
       "Validation: 0it [00:00, ?it/s]"
      ]
     },
     "metadata": {},
     "output_type": "display_data"
    },
    {
     "data": {
      "application/vnd.jupyter.widget-view+json": {
       "model_id": "b73f98a464944f3fb35a4ee4ca122eac",
       "version_major": 2,
       "version_minor": 0
      },
      "text/plain": [
       "Validation: 0it [00:00, ?it/s]"
      ]
     },
     "metadata": {},
     "output_type": "display_data"
    },
    {
     "data": {
      "application/vnd.jupyter.widget-view+json": {
       "model_id": "241b0a4002fe408a9e009a91dabecf75",
       "version_major": 2,
       "version_minor": 0
      },
      "text/plain": [
       "Validation: 0it [00:00, ?it/s]"
      ]
     },
     "metadata": {},
     "output_type": "display_data"
    },
    {
     "data": {
      "application/vnd.jupyter.widget-view+json": {
       "model_id": "057372397e1d401f8e380785b1a0343a",
       "version_major": 2,
       "version_minor": 0
      },
      "text/plain": [
       "Validation: 0it [00:00, ?it/s]"
      ]
     },
     "metadata": {},
     "output_type": "display_data"
    },
    {
     "data": {
      "application/vnd.jupyter.widget-view+json": {
       "model_id": "81b1e448ab69452ab349aa9cc46c9653",
       "version_major": 2,
       "version_minor": 0
      },
      "text/plain": [
       "Validation: 0it [00:00, ?it/s]"
      ]
     },
     "metadata": {},
     "output_type": "display_data"
    },
    {
     "data": {
      "application/vnd.jupyter.widget-view+json": {
       "model_id": "abd584f2cbb44f37bf09f0da3e55795d",
       "version_major": 2,
       "version_minor": 0
      },
      "text/plain": [
       "Validation: 0it [00:00, ?it/s]"
      ]
     },
     "metadata": {},
     "output_type": "display_data"
    },
    {
     "data": {
      "application/vnd.jupyter.widget-view+json": {
       "model_id": "7ff50e4dc4b24d519bff5cb9096021d1",
       "version_major": 2,
       "version_minor": 0
      },
      "text/plain": [
       "Validation: 0it [00:00, ?it/s]"
      ]
     },
     "metadata": {},
     "output_type": "display_data"
    },
    {
     "data": {
      "application/vnd.jupyter.widget-view+json": {
       "model_id": "6e5e6f2e96f647929f16ce1a2c8707ac",
       "version_major": 2,
       "version_minor": 0
      },
      "text/plain": [
       "Validation: 0it [00:00, ?it/s]"
      ]
     },
     "metadata": {},
     "output_type": "display_data"
    },
    {
     "data": {
      "application/vnd.jupyter.widget-view+json": {
       "model_id": "cc3a70b2fa6044dc9ec431ae3148fa6e",
       "version_major": 2,
       "version_minor": 0
      },
      "text/plain": [
       "Validation: 0it [00:00, ?it/s]"
      ]
     },
     "metadata": {},
     "output_type": "display_data"
    },
    {
     "data": {
      "application/vnd.jupyter.widget-view+json": {
       "model_id": "98a0005f984a4571b2a8f91fc81695f5",
       "version_major": 2,
       "version_minor": 0
      },
      "text/plain": [
       "Validation: 0it [00:00, ?it/s]"
      ]
     },
     "metadata": {},
     "output_type": "display_data"
    }
   ],
   "source": [
    "#IDの付与\n",
    "df[\"ID\"] = \"01\"\n",
    "df[\"time_idx\"] = df[\"日付け\"].factorize()[0] \n",
    "target = \"終値\"\n",
    "\n",
    "# PyTorch 側で MPS デバイス確認\n",
    "device = torch.device(\"mps\" if torch.backends.mps.is_available() else \"cpu\")\n",
    "print(device)\n",
    "\n",
    "#変数定義(短期トレンドを追いかけれるように90日で定義)\n",
    "pred_length = 30\n",
    "max_encoder_length = 90\n",
    "\n",
    "#学習データと検証データの分割\n",
    "df_test = df.tail(pred_length)\n",
    "df_train = df.drop(df.tail(pred_length).index)\n",
    "\n",
    "df_train, df_val = train_test_split(df_train, test_size=0.2)\n",
    "\n",
    "#学習データ作成\n",
    "train = TimeSeriesDataSet(\n",
    "    df_train,\n",
    "    time_idx=\"time_idx\",\n",
    "    target=target,\n",
    "    group_ids=[\"ID\"],\n",
    "    min_encoder_length=max_encoder_length,\n",
    "    max_encoder_length=max_encoder_length,\n",
    "    min_prediction_length=pred_length,\n",
    "    max_prediction_length=pred_length,\n",
    "    time_varying_known_reals=[\"出来高\", \"変化率 %\"],\n",
    "    target_normalizer=NaNLabelEncoder(),\n",
    "    allow_missing_timesteps=True \n",
    ")\n",
    "\n",
    "#検証データ作成\n",
    "val = TimeSeriesDataSet(\n",
    "    df_val,\n",
    "    time_idx=\"time_idx\",\n",
    "    target=target,\n",
    "    group_ids=[\"ID\"],\n",
    "    min_encoder_length=max_encoder_length,\n",
    "    max_encoder_length=max_encoder_length,\n",
    "    min_prediction_length=pred_length,\n",
    "    max_prediction_length=pred_length,\n",
    "    time_varying_known_reals=[\"出来高\", \"変化率 %\"],\n",
    "    target_normalizer=NaNLabelEncoder(),\n",
    "    allow_missing_timesteps=True \n",
    ")\n",
    "\n",
    "# データローダー作成\n",
    "train_dataloader = train.to_dataloader(train=True, batch_size=32)\n",
    "val_dataloader = val.to_dataloader(train=False, batch_size=32)\n",
    "\n",
    "#=== モデル定義 ===\n",
    "tft = TemporalFusionTransformer.from_dataset(\n",
    "    train,\n",
    "    hidden_size=32,\n",
    "    attention_head_size=4,\n",
    "    dropout=0.1,\n",
    "    learning_rate=1e-3,\n",
    "    loss=QuantileLoss(),\n",
    ")\n",
    "\n",
    "#=== 学習 ===\n",
    "trainer = Trainer(\n",
    "    max_epochs=50,\n",
    "    accelerator=\"auto\",\n",
    "    devices=1,\n",
    "    callbacks=[\n",
    "        EarlyStopping(       # early_stopping\n",
    "            monitor=\"val_loss\",\n",
    "            patience=10,     # 10エポック改善なしで停止\n",
    "            mode=\"min\"\n",
    "        )\n",
    "    ]\n",
    ")\n",
    "trainer.fit(tft, train_dataloader, val_dataloader) \n",
    "\n",
    "#=== 予測 ===\n",
    "raw_predictions, x = tft.predict(val_dataloader, return_x=True)\n"
   ]
  },
  {
   "cell_type": "code",
   "execution_count": 21,
   "id": "4ca01f7d",
   "metadata": {},
   "outputs": [
    {
     "data": {
      "text/plain": [
       "3.484046417182849"
      ]
     },
     "execution_count": 21,
     "metadata": {},
     "output_type": "execute_result"
    }
   ],
   "source": [
    "predictions = tft.transform_output(raw_predictions, target_scale=x[\"target_scale\"])\n",
    "y_pred = predictions.detach().cpu().numpy()[0]\n",
    "y_test = df_test.tail(30)[target].array\n",
    "mape_score = mean_absolute_percentage_error(y_test,y_pred)\n",
    "mape_score"
   ]
  },
  {
   "cell_type": "code",
   "execution_count": 18,
   "id": "570f2c99-2ef5-43a9-9f6c-1cfc699c7c5b",
   "metadata": {},
   "outputs": [],
   "source": []
  },
  {
   "cell_type": "code",
   "execution_count": null,
   "id": "10a23d95-d2ea-4d66-a42c-26cedf3c08da",
   "metadata": {},
   "outputs": [],
   "source": []
  }
 ],
 "metadata": {
  "kernelspec": {
   "display_name": "Python 3 (ipykernel)",
   "language": "python",
   "name": "python3"
  },
  "language_info": {
   "codemirror_mode": {
    "name": "ipython",
    "version": 3
   },
   "file_extension": ".py",
   "mimetype": "text/x-python",
   "name": "python",
   "nbconvert_exporter": "python",
   "pygments_lexer": "ipython3",
   "version": "3.10.12"
  }
 },
 "nbformat": 4,
 "nbformat_minor": 5
}
