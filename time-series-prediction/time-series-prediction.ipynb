{
 "cells": [
  {
   "cell_type": "code",
   "execution_count": 1,
   "id": "36d89177",
   "metadata": {},
   "outputs": [],
   "source": [
    "import pandas as pd\n",
    "import numpy as np\n",
    "import matplotlib.pyplot as plt\n",
    "import jpholiday\n",
    "\n",
    "from statsmodels.graphics.tsaplots import plot_acf, plot_pacf\n",
    "from statsmodels.tsa.stattools import acf, pacf\n",
    "#import ydata_profiling\n",
    "import seaborn as sns\n",
    "\n",
    "from sklearn.metrics import mean_absolute_percentage_error\n",
    "from sklearn.model_selection import train_test_split\n",
    "\n",
    "from prophet import Prophet\n",
    "from prophet.diagnostics import cross_validation\n",
    "from prophet.diagnostics import performance_metrics\n",
    "\n",
    "import torch\n",
    "from pytorch_lightning import Trainer\n",
    "from pytorch_forecasting import TimeSeriesDataSet\n",
    "from pytorch_forecasting.models import TemporalFusionTransformer\n",
    "from pytorch_forecasting.data import NaNLabelEncoder\n",
    "from pytorch_forecasting.metrics import QuantileLoss\n",
    "from pytorch_lightning.callbacks import EarlyStopping\n",
    "\n",
    "import warnings\n",
    "warnings.filterwarnings('ignore')"
   ]
  },
  {
   "cell_type": "code",
   "execution_count": 2,
   "id": "b4671e84",
   "metadata": {},
   "outputs": [],
   "source": [
    "df = pd.read_csv(\"stock_price.csv\")"
   ]
  },
  {
   "cell_type": "code",
   "execution_count": 3,
   "id": "b18ec648",
   "metadata": {},
   "outputs": [],
   "source": [
    "def convert_volume_with_apply(volume_str):\n",
    "    \"\"\"\n",
    "    出来高の文字列を数値に変換する関数\n",
    "    \"\"\"\n",
    "    if pd.isna(volume_str):\n",
    "        return np.nan\n",
    "\n",
    "    volume_str = str(volume_str)\n",
    "\n",
    "    # 右端の文字で単位を判定\n",
    "    last_char = volume_str[-1]\n",
    "\n",
    "    if last_char == 'M':  # ミリオン\n",
    "        return float(volume_str[:-1]) * 1_000_000\n",
    "    elif last_char == 'B':  # ビリオン\n",
    "        return float(volume_str[:-1]) * 1_000_000_000\n",
    "    elif last_char == 'K':  # キロ\n",
    "        return float(volume_str[:-1]) * 1_000\n",
    "    else:  # 単位なし\n",
    "        return float(volume_str)"
   ]
  },
  {
   "cell_type": "markdown",
   "id": "6e121d0a",
   "metadata": {},
   "source": [
    "【データ理解　EDA】"
   ]
  },
  {
   "cell_type": "code",
   "execution_count": 4,
   "id": "f6baf0d9",
   "metadata": {},
   "outputs": [
    {
     "data": {
      "text/html": [
       "<div>\n",
       "<style scoped>\n",
       "    .dataframe tbody tr th:only-of-type {\n",
       "        vertical-align: middle;\n",
       "    }\n",
       "\n",
       "    .dataframe tbody tr th {\n",
       "        vertical-align: top;\n",
       "    }\n",
       "\n",
       "    .dataframe thead th {\n",
       "        text-align: right;\n",
       "    }\n",
       "</style>\n",
       "<table border=\"1\" class=\"dataframe\">\n",
       "  <thead>\n",
       "    <tr style=\"text-align: right;\">\n",
       "      <th></th>\n",
       "      <th>終値</th>\n",
       "      <th>始値</th>\n",
       "      <th>高値</th>\n",
       "      <th>安値</th>\n",
       "    </tr>\n",
       "  </thead>\n",
       "  <tbody>\n",
       "    <tr>\n",
       "      <th>count</th>\n",
       "      <td>9202.000000</td>\n",
       "      <td>9202.000000</td>\n",
       "      <td>9202.000000</td>\n",
       "      <td>9202.000000</td>\n",
       "    </tr>\n",
       "    <tr>\n",
       "      <th>mean</th>\n",
       "      <td>92.180961</td>\n",
       "      <td>92.256183</td>\n",
       "      <td>93.176451</td>\n",
       "      <td>91.330146</td>\n",
       "    </tr>\n",
       "    <tr>\n",
       "      <th>std</th>\n",
       "      <td>50.452228</td>\n",
       "      <td>50.598215</td>\n",
       "      <td>51.049837</td>\n",
       "      <td>50.087405</td>\n",
       "    </tr>\n",
       "    <tr>\n",
       "      <th>min</th>\n",
       "      <td>33.000000</td>\n",
       "      <td>33.000000</td>\n",
       "      <td>33.200000</td>\n",
       "      <td>32.200000</td>\n",
       "    </tr>\n",
       "    <tr>\n",
       "      <th>25%</th>\n",
       "      <td>52.000000</td>\n",
       "      <td>52.100000</td>\n",
       "      <td>52.800000</td>\n",
       "      <td>51.500000</td>\n",
       "    </tr>\n",
       "    <tr>\n",
       "      <th>50%</th>\n",
       "      <td>85.100000</td>\n",
       "      <td>85.100000</td>\n",
       "      <td>86.050000</td>\n",
       "      <td>84.200000</td>\n",
       "    </tr>\n",
       "    <tr>\n",
       "      <th>75%</th>\n",
       "      <td>110.800000</td>\n",
       "      <td>110.800000</td>\n",
       "      <td>111.900000</td>\n",
       "      <td>109.275000</td>\n",
       "    </tr>\n",
       "    <tr>\n",
       "      <th>max</th>\n",
       "      <td>305.900000</td>\n",
       "      <td>309.800000</td>\n",
       "      <td>311.800000</td>\n",
       "      <td>303.900000</td>\n",
       "    </tr>\n",
       "  </tbody>\n",
       "</table>\n",
       "</div>"
      ],
      "text/plain": [
       "                終値           始値           高値           安値\n",
       "count  9202.000000  9202.000000  9202.000000  9202.000000\n",
       "mean     92.180961    92.256183    93.176451    91.330146\n",
       "std      50.452228    50.598215    51.049837    50.087405\n",
       "min      33.000000    33.000000    33.200000    32.200000\n",
       "25%      52.000000    52.100000    52.800000    51.500000\n",
       "50%      85.100000    85.100000    86.050000    84.200000\n",
       "75%     110.800000   110.800000   111.900000   109.275000\n",
       "max     305.900000   309.800000   311.800000   303.900000"
      ]
     },
     "execution_count": 4,
     "metadata": {},
     "output_type": "execute_result"
    }
   ],
   "source": [
    "df.describe()"
   ]
  },
  {
   "cell_type": "code",
   "execution_count": 5,
   "id": "788eabab",
   "metadata": {},
   "outputs": [],
   "source": [
    "#### --> EDA用レポート表示\n",
    "#ydata_profiling.ProfileReport(df)"
   ]
  },
  {
   "cell_type": "code",
   "execution_count": 6,
   "id": "94eed53f",
   "metadata": {},
   "outputs": [
    {
     "data": {
      "image/png": "[encoded data removed]",
      "text/plain": [
       "<Figure size 1400x800 with 4 Axes>"
      ]
     },
     "metadata": {},
     "output_type": "display_data"
    }
   ],
   "source": [
    "fig, ax = plt.subplots(2, 2, figsize=(14,8))\n",
    "plot_acf(df[\"終値\"], ax=ax[0, 0], lags=1000)\n",
    "ax[0,0].axhline(y=0.5, color='red', linestyle='--')\n",
    "\n",
    "plot_pacf(df[\"終値\"], ax=ax[0, 1], lags=1000)\n",
    "\n",
    "plot_acf(df[\"終値\"], ax=ax[1, 0], lags=365)\n",
    "ax[1,0].axhline(y=0.5, color='red', linestyle='--')\n",
    "\n",
    "plot_pacf(df[\"終値\"], ax=ax[1, 1], lags=365)\n",
    "plt.show()"
   ]
  },
  {
   "cell_type": "markdown",
   "id": "3b5f0b9f",
   "metadata": {},
   "source": [
    "【前処理と特徴量エンジニアリング】"
   ]
  },
  {
   "cell_type": "code",
   "execution_count": 7,
   "id": "66c6e6ec",
   "metadata": {},
   "outputs": [
    {
     "name": "stdout",
     "output_type": "stream",
     "text": [
      "日付け      datetime64[ns]\n",
      "終値              float64\n",
      "始値              float64\n",
      "高値              float64\n",
      "安値              float64\n",
      "出来高             float64\n",
      "変化率 %           float64\n",
      "dtype: object\n"
     ]
    }
   ],
   "source": [
    "#### --> 出来高列の前処理\n",
    "df[\"出来高\"].str[-1].unique()\n",
    "df['出来高'] = df['出来高'].apply(convert_volume_with_apply)\n",
    "\n",
    "#### --> 変化率列の前処理\n",
    "df[\"変化率 %\"] = df[\"変化率 %\"].str.replace(\"%\", \"\").astype(float) / 100\n",
    "\n",
    "#### --> 日付け列の前処理\n",
    "#日付け列をdatetime型に変換\n",
    "df[\"日付け\"] = pd.to_datetime(df[\"日付け\"])\n",
    "print(df.dtypes)\n",
    "\n",
    "#日付を並び替え\n",
    "df = df.sort_values(\"日付け\", ascending=True).reset_index(drop=True)\n"
   ]
  },
  {
   "cell_type": "code",
   "execution_count": 8,
   "id": "f7c05592",
   "metadata": {},
   "outputs": [
    {
     "name": "stdout",
     "output_type": "stream",
     "text": [
      "\n",
      "欠損の日付count : 4484\n",
      "祝日の日付count : 493\n",
      "単純欠損の日付count : 81\n"
     ]
    }
   ],
   "source": [
    "#### --> 日付け列の内容確認(歯抜け)\n",
    "start_date = df[\"日付け\"].min()\n",
    "end_date = df[\"日付け\"].max()\n",
    "sample_dates = pd.date_range(start=start_date, end=end_date)\n",
    "\n",
    "df_dates_set = set(df[\"日付け\"])\n",
    "\n",
    "# sample_datesにあるが、df_dates_setにはない日付をリスト化\n",
    "missing_dates = [date for date in sample_dates if date not in df_dates_set]\n",
    "\n",
    "# 結果を表示\n",
    "if len(missing_dates) > 0:\n",
    "    print(f\"\\n欠損の日付count : {len(missing_dates)}\")\n",
    "else:\n",
    "    print(\"欠損している日付はありません。\")\n",
    "\n",
    "#\n",
    "df_missing_dates = pd.DataFrame(missing_dates, columns=[\"欠損日\"])\n",
    "df_missing_dates[\"曜日\"] = df_missing_dates[\"欠損日\"].dt.day_name()\n",
    "#土日の行に欠損があるかどうかの確認 \n",
    "df_weekdays = df_missing_dates.loc[(df_missing_dates['曜日'] != 'Saturday') & (df_missing_dates['曜日'] != 'Sunday')]\n",
    "#祝日の行に欠損があるかどうかの確認\n",
    "df_weekdays['祝日'] = df_weekdays['欠損日'].apply(jpholiday.is_holiday)\n",
    "#祝日ではない行に欠損があるかどうかの確認(81件)\n",
    "df_missing = df_weekdays.loc[df_weekdays['祝日'] == False]\n",
    "\n",
    "print(f\"祝日の日付count : {len(df_weekdays)-len(df_missing)}\")\n",
    "print(f\"単純欠損の日付count : {len(df_missing)}\")\n",
    "\n"
   ]
  },
  {
   "cell_type": "markdown",
   "id": "e5bd8a99",
   "metadata": {},
   "source": [
    "【モデルの実装】　Prophet"
   ]
  },
  {
   "cell_type": "code",
   "execution_count": 9,
   "id": "3229945d",
   "metadata": {},
   "outputs": [],
   "source": [
    "m = Prophet()"
   ]
  },
  {
   "cell_type": "code",
   "execution_count": null,
   "id": "b72a7918",
   "metadata": {},
   "outputs": [
    {
     "name": "stderr",
     "output_type": "stream",
     "text": [
      "13:27:17 - cmdstanpy - INFO - Chain [1] start processing\n"
     ]
    }
   ],
   "source": [
    "sampling_term = 30\n",
    "\n",
    "target = \"終値\"\n",
    "sample = df[[\"日付け\",target]]\n",
    "sample_test = sample.tail(sampling_term)\n",
    "sample_train = sample.rename(columns={\"日付け\": \"ds\", target: \"y\"}).drop(sample_test.index)\n",
    "m.fit(sample_train)"
   ]
  },
  {
   "cell_type": "code",
   "execution_count": null,
   "id": "3744d765",
   "metadata": {},
   "outputs": [],
   "source": [
    "future = sample_test[[\"日付け\"]].rename(columns={\"日付け\":\"ds\"})\n",
    "\n",
    "#予測値の算出\n",
    "forecast = m.predict(future)"
   ]
  },
  {
   "cell_type": "code",
   "execution_count": null,
   "id": "0a7b47cd",
   "metadata": {},
   "outputs": [],
   "source": [
    "#評価(MAPE)\n",
    "y_pred = forecast[\"yhat\"]\n",
    "y_test = sample_test[target]\n",
    "mape_score = mean_absolute_percentage_error(y_pred,y_test)\n",
    "print(f\"MAPE : {mape_score *100:.3f} %\")"
   ]
  },
  {
   "cell_type": "code",
   "execution_count": null,
   "id": "244b9eca",
   "metadata": {},
   "outputs": [],
   "source": [
    "# グラフを描画するaxオブジェクトを作成\n",
    "fig, ax = plt.subplots(figsize=(10, 6))\n",
    "\n",
    "# 1. 予測値をプロット（yhatと信頼区間）\n",
    "ax.plot(forecast['ds'], forecast['yhat'], color='blue', label='Forecast')\n",
    "ax.fill_between(forecast['ds'], forecast['yhat_lower'], forecast['yhat_upper'], color='blue', alpha=0.2, label='Confidence Interval')\n",
    "\n",
    "actual_data = sample.loc[sample['日付け'] >= '2021-12-01']\n",
    "ax.plot(actual_data['日付け'], actual_data['終値'], 'k.', label='Actual')\n",
    "\n",
    "ax.set_title('Prophet Forecast with Actual Values')\n",
    "ax.set_xlabel('Date')\n",
    "ax.set_ylabel('Value')\n",
    "ax.legend(loc='lower right')\n",
    "\n",
    "ax.set_ylim(0, None)\n",
    "\n",
    "plt.show()\n",
    "\n",
    "fig2 = m.plot_components(forecast)"
   ]
  },
  {
   "cell_type": "markdown",
   "id": "e4ac1c41",
   "metadata": {},
   "source": [
    "汎化性能の検証"
   ]
  },
  {
   "cell_type": "code",
   "execution_count": null,
   "id": "8b07fbd3",
   "metadata": {},
   "outputs": [],
   "source": [
    "\"\"\"\n",
    "学習期間：過去指定期間\n",
    "汎化性能用にずらす間隔：3ヶ月ごと\n",
    "予測する未来の期間：30日分\n",
    "\"\"\"\n",
    "total_rows = len(df)\n",
    "#initial_days = total_rows - sampling_term\n",
    "initial_days = 1460\n",
    "period = 180\n",
    "horizon = 30\n",
    "\n",
    "df_cv = cross_validation(m, initial=f'{initial_days} days', period=period, horizon=horizon)"
   ]
  },
  {
   "cell_type": "code",
   "execution_count": null,
   "id": "152ceeb7",
   "metadata": {},
   "outputs": [],
   "source": [
    "# ホライズンごとのMAPE, RMSEなどを計算\n",
    "df_p = performance_metrics(df_cv, metrics=['mape'])\n",
    "\n",
    "# 結果の確認\n",
    "print(df_p)"
   ]
  },
  {
   "cell_type": "markdown",
   "id": "0e00d0cc",
   "metadata": {},
   "source": [
    "【モデルの実装】　TFT (Temporal Fusion Transformer)"
   ]
  },
  {
   "cell_type": "code",
   "execution_count": null,
   "id": "382a4344",
   "metadata": {},
   "outputs": [],
   "source": [
    "#IDの付与\n",
    "df[\"ID\"] = \"01\"\n",
    "df[\"time_idx\"] = df[\"日付け\"].factorize()[0] \n",
    "\n",
    "# PyTorch 側で MPS デバイス確認\n",
    "device = torch.device(\"mps\" if torch.backends.mps.is_available() else \"cpu\")\n",
    "print(device)\n",
    "\n",
    "#変数定義(短期トレンドを追いかけれるように90日で定義)\n",
    "pred_length = 30\n",
    "max_encoder_length = 90\n",
    "\n",
    "#学習データと検証データの分割\n",
    "df_test = df.tail(pred_length)\n",
    "df_train = df.drop(df.tail(pred_length).index)\n",
    "\n",
    "df_train, df_val = train_test_split(df_train, test_size=0.2)\n",
    "\n",
    "#学習データ作成\n",
    "train = TimeSeriesDataSet(\n",
    "    df_train,\n",
    "    time_idx=\"time_idx\",\n",
    "    target=target,\n",
    "    group_ids=[\"ID\"],\n",
    "    min_encoder_length=max_encoder_length,\n",
    "    max_encoder_length=max_encoder_length,\n",
    "    min_prediction_length=pred_length,\n",
    "    max_prediction_length=pred_length,\n",
    "    time_varying_known_reals=[\"出来高\", \"変化率 %\"],\n",
    "    target_normalizer=NaNLabelEncoder(),\n",
    "    allow_missing_timesteps=True \n",
    ")\n",
    "\n",
    "#検証データ作成\n",
    "val = TimeSeriesDataSet(\n",
    "    df_val,\n",
    "    time_idx=\"time_idx\",\n",
    "    target=target,\n",
    "    group_ids=[\"ID\"],\n",
    "    min_encoder_length=max_encoder_length,\n",
    "    max_encoder_length=max_encoder_length,\n",
    "    min_prediction_length=pred_length,\n",
    "    max_prediction_length=pred_length,\n",
    "    time_varying_known_reals=[\"出来高\", \"変化率 %\"],\n",
    "    target_normalizer=NaNLabelEncoder(),\n",
    "    allow_missing_timesteps=True \n",
    ")\n",
    "\n",
    "# データローダー作成\n",
    "train_dataloader = train.to_dataloader(train=True, batch_size=32)\n",
    "val_dataloader = val.to_dataloader(train=False, batch_size=32)\n",
    "\n",
    "#=== モデル定義 ===\n",
    "tft = TemporalFusionTransformer.from_dataset(\n",
    "    train,\n",
    "    hidden_size=32,\n",
    "    attention_head_size=4,\n",
    "    dropout=0.1,\n",
    "    learning_rate=1e-3,\n",
    "    loss=QuantileLoss(),\n",
    ")\n",
    "\n",
    "#=== 学習 ===\n",
    "trainer = Trainer(\n",
    "    max_epochs=50,\n",
    "    accelerator=\"auto\",\n",
    "    devices=1,\n",
    "    callbacks=[\n",
    "        EarlyStopping(       # early_stopping\n",
    "            monitor=\"val_loss\",\n",
    "            patience=10,     # 10エポック改善なしで停止\n",
    "            mode=\"min\"\n",
    "        )\n",
    "    ]\n",
    ")\n",
    "trainer.fit(tft, train_dataloader, val_dataloader) \n",
    "\n",
    "#=== 予測 ===\n",
    "raw_predictions, x = tft.predict(val_dataloader, return_x=True)\n"
   ]
  },
  {
   "cell_type": "code",
   "execution_count": null,
   "id": "4ca01f7d",
   "metadata": {},
   "outputs": [],
   "source": [
    "predictions = tft.transform_output(raw_predictions, target_scale=x[\"target_scale\"])\n"
   ]
  }
 ],
 "metadata": {
  "kernelspec": {
   "display_name": "Python 3 (ipykernel)",
   "language": "python",
   "name": "python3"
  },
  "language_info": {
   "codemirror_mode": {
    "name": "ipython",
    "version": 3
   },
   "file_extension": ".py",
   "mimetype": "text/x-python",
   "name": "python",
   "nbconvert_exporter": "python",
   "pygments_lexer": "ipython3",
   "version": "3.10.12"
  }
 },
 "nbformat": 4,
 "nbformat_minor": 5
}
